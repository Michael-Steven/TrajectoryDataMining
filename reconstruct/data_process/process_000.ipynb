{
 "cells": [
  {
   "cell_type": "code",
   "execution_count": 1,
   "metadata": {},
   "outputs": [],
   "source": [
    "# jupyter中使用hyperparams需要添加\n",
    "import sys\n",
    "sys.argv = ['run.py']"
   ]
  },
  {
   "cell_type": "markdown",
   "metadata": {},
   "source": [
    "根据经纬度映射出区域号.\n",
    "- xlim:经度范围\n",
    "- ylim:纬度范围\n",
    "\n",
    "北京：\n",
    "- lng_ld = 116.1\n",
    "- lat_ld = 39.7\n",
    "- lng_max = 116.7\n",
    "- lat_max = 40.2"
   ]
  },
  {
   "cell_type": "code",
   "execution_count": 2,
   "metadata": {},
   "outputs": [
    {
     "name": "stdout",
     "output_type": "stream",
     "text": [
      "672-871\n"
     ]
    }
   ],
   "source": [
    "def get_gridID(longitude, latitude):\n",
    "    # xlim = [116.1, 116.7]\n",
    "    # ylim = [39.7, 40.2]\n",
    "    lng_ld = 116.1\n",
    "    lat_ld = 39.7\n",
    "    lng_max = 116.7\n",
    "    lat_max = 40.2\n",
    "    grid_length = 0.0002\n",
    "    grid_width = 0.0002\n",
    "    # regionID = (xlim[1] - xlim[0]) // grid_length * (latitude - ylim[0]) // grid_width + (\n",
    "    #         longitude - xlim[0]) // grid_length + 1\n",
    "    gridID = str(int((longitude-lng_ld)/0.0002)) + \"-\" + str(int((latitude-lat_ld)/0.0002))\n",
    "    return gridID\n",
    "\n",
    "print(get_gridID(116.2345,39.8744))\n"
   ]
  },
  {
   "cell_type": "markdown",
   "metadata": {},
   "source": [
    "轨迹过滤：过滤掉timeslots小于m的轨迹，过滤掉总条数少于5条的轨迹。"
   ]
  },
  {
   "cell_type": "code",
   "execution_count": 3,
   "metadata": {},
   "outputs": [],
   "source": [
    "import os\n",
    "file_list = sorted(os.listdir('./data/Geolife/Data'))\n",
    "file_num = len(file_list)\n",
    "file_list = file_list[1:]\n",
    "\n",
    "\n",
    "for user_id in file_list:\n",
    "    u_path = os.getcwd() + \"/data\" + \"/Geolife\" + \"/Data/\" + user_id + \"/Trajectory\"\n",
    "\n",
    "\n",
    "\n",
    "# path = os.getcwd() + \"/data\" + \"/Geolife\" + \"/Data\" + \"/001\" + \"/Trajectory\"\n",
    "# print(path)\n",
    "# user_path = os.scandir(path)\n",
    "# print(user_path)"
   ]
  },
  {
   "cell_type": "code",
   "execution_count": 4,
   "metadata": {},
   "outputs": [],
   "source": [
    "output_path = './Results/size%d' % (1)\n",
    "if not os.path.exists(output_path):\n",
    "    # 目录不存在，进行创建操作\n",
    "    os.makedirs(output_path)\n",
    "\n",
    "  "
   ]
  },
  {
   "cell_type": "code",
   "execution_count": 5,
   "metadata": {},
   "outputs": [
    {
     "name": "stdout",
     "output_type": "stream",
     "text": [
      "2496075\n",
      "Loading Time: 0:00:14\n"
     ]
    }
   ],
   "source": [
    "import pandas as pd\n",
    "import datetime\n",
    "time0 = datetime.datetime.now()\n",
    "start_time = datetime.datetime.now()\n",
    "result_tmp = []\n",
    "data_tmp = pd.DataFrame()\n",
    "data_all = pd.DataFrame()  \n",
    "# data_all.columns=['UID','timestamp','longitude','latitude']\n",
    "for filename in file_list:\n",
    "    path = \"./data\" + \"/Geolife\" + \"/Data/\" + filename + \"/Trajectory\"\n",
    "    # user_path: one user's all trajectories\n",
    "    user_path = os.scandir(path)\n",
    "    for item in user_path:\n",
    "        # path_item: one of the trajactories\n",
    "        path_item = path + \"/\" + item.name\n",
    "        with open(path_item, 'r+') as fp:\n",
    "            # every item is a point\n",
    "            # lat, lnt, 0, alt, date, date(日期), time（时间）\n",
    "            # 39.999383,116.326916,0,134,39915.3152083333,2009-04-12,07:33:54\n",
    "            for item in fp.readlines()[6::10]:\n",
    "                item_list = item.strip().split(',')\n",
    "\n",
    "                uid = filename\n",
    "                lat = item_list[0]\n",
    "                lnt = item_list[1]\n",
    "                date = item_list[5]\n",
    "                timestamp = item_list[6]\n",
    "\n",
    "                temp = []\n",
    "                temp.append(uid)\n",
    "                temp.append(lat)\n",
    "                temp.append(lnt)\n",
    "                temp.append(date)\n",
    "                temp.append(timestamp)\n",
    "                result_tmp.append(temp) \n",
    "end_time = datetime.datetime.now()\n",
    "print(len(result_tmp))\n",
    "print(\"Loading Time:\", str((end_time - start_time))[0:7])"
   ]
  },
  {
   "cell_type": "code",
   "execution_count": 6,
   "metadata": {},
   "outputs": [],
   "source": [
    "data_all = pd.DataFrame(result_tmp, columns=['uid', 'latitude', 'longitude', 'date', 'time']).dropna(axis=0)\n",
    "\n",
    "tmp = data_all.copy(deep=True)\n",
    "# 经纬度\n",
    "# UID\n",
    "tmp['uid'] = tmp['uid'].apply(lambda x: int(x))\n",
    "# 获取日期\n",
    "# 获取具体时间（24小时制）\n",
    "# 获取时间编号（48个半小时中的第几个）\n",
    "tmp['timeNo'] = tmp['time'].apply(lambda x: int(x[0:2]) * 2 + int(x[3:5]) // 30)\n",
    "# 获得区域编号\n",
    "tmp['gridID'] = tmp.apply(lambda x: get_gridID(float(x['longitude']), float(x['latitude'])), axis=1)\n",
    "# tmp"
   ]
  },
  {
   "cell_type": "markdown",
   "metadata": {},
   "source": [
    "```\n",
    "['000', '40.000017', '116.327479', '2009-04-12', '07:33:03']\n",
    "['000', '39.999383', '116.326916', '2009-04-12', '07:33:54']\n",
    "['000', '39.998139', '116.327237', '2009-04-12', '07:34:44']\n",
    "['000', '39.996225', '116.32658', '2009-04-12', '07:35:39']\n",
    "['000', '39.995637', '116.326712', '2009-04-12', '07:36:24']\n",
    "```"
   ]
  },
  {
   "cell_type": "code",
   "execution_count": 7,
   "metadata": {},
   "outputs": [
    {
     "name": "stdout",
     "output_type": "stream",
     "text": [
      "reindex regionID...\n",
      "After loading the data files, region numbers:  732861\n",
      "(2496075, 8)\n"
     ]
    },
    {
     "data": {
      "text/html": [
       "<div>\n",
       "<style scoped>\n",
       "    .dataframe tbody tr th:only-of-type {\n",
       "        vertical-align: middle;\n",
       "    }\n",
       "\n",
       "    .dataframe tbody tr th {\n",
       "        vertical-align: top;\n",
       "    }\n",
       "\n",
       "    .dataframe thead th {\n",
       "        text-align: right;\n",
       "    }\n",
       "</style>\n",
       "<table border=\"1\" class=\"dataframe\">\n",
       "  <thead>\n",
       "    <tr style=\"text-align: right;\">\n",
       "      <th></th>\n",
       "      <th>uid</th>\n",
       "      <th>latitude</th>\n",
       "      <th>longitude</th>\n",
       "      <th>date</th>\n",
       "      <th>time</th>\n",
       "      <th>timeNo</th>\n",
       "      <th>gridID</th>\n",
       "      <th>regionID</th>\n",
       "    </tr>\n",
       "  </thead>\n",
       "  <tbody>\n",
       "    <tr>\n",
       "      <th>0</th>\n",
       "      <td>0</td>\n",
       "      <td>40.000017</td>\n",
       "      <td>116.327479</td>\n",
       "      <td>2009-04-12</td>\n",
       "      <td>07:33:03</td>\n",
       "      <td>15</td>\n",
       "      <td>1137-1500</td>\n",
       "      <td>179581</td>\n",
       "    </tr>\n",
       "    <tr>\n",
       "      <th>1</th>\n",
       "      <td>0</td>\n",
       "      <td>39.999383</td>\n",
       "      <td>116.326916</td>\n",
       "      <td>2009-04-12</td>\n",
       "      <td>07:33:54</td>\n",
       "      <td>15</td>\n",
       "      <td>1134-1496</td>\n",
       "      <td>517285</td>\n",
       "    </tr>\n",
       "    <tr>\n",
       "      <th>2</th>\n",
       "      <td>0</td>\n",
       "      <td>39.998139</td>\n",
       "      <td>116.327237</td>\n",
       "      <td>2009-04-12</td>\n",
       "      <td>07:34:44</td>\n",
       "      <td>15</td>\n",
       "      <td>1136-1490</td>\n",
       "      <td>380840</td>\n",
       "    </tr>\n",
       "    <tr>\n",
       "      <th>3</th>\n",
       "      <td>0</td>\n",
       "      <td>39.996225</td>\n",
       "      <td>116.32658</td>\n",
       "      <td>2009-04-12</td>\n",
       "      <td>07:35:39</td>\n",
       "      <td>15</td>\n",
       "      <td>1132-1481</td>\n",
       "      <td>652488</td>\n",
       "    </tr>\n",
       "    <tr>\n",
       "      <th>4</th>\n",
       "      <td>0</td>\n",
       "      <td>39.995637</td>\n",
       "      <td>116.326712</td>\n",
       "      <td>2009-04-12</td>\n",
       "      <td>07:36:24</td>\n",
       "      <td>15</td>\n",
       "      <td>1133-1478</td>\n",
       "      <td>47243</td>\n",
       "    </tr>\n",
       "  </tbody>\n",
       "</table>\n",
       "</div>"
      ],
      "text/plain": [
       "   uid   latitude   longitude        date      time  timeNo     gridID  \\\n",
       "0    0  40.000017  116.327479  2009-04-12  07:33:03      15  1137-1500   \n",
       "1    0  39.999383  116.326916  2009-04-12  07:33:54      15  1134-1496   \n",
       "2    0  39.998139  116.327237  2009-04-12  07:34:44      15  1136-1490   \n",
       "3    0  39.996225   116.32658  2009-04-12  07:35:39      15  1132-1481   \n",
       "4    0  39.995637  116.326712  2009-04-12  07:36:24      15  1133-1478   \n",
       "\n",
       "   regionID  \n",
       "0    179581  \n",
       "1    517285  \n",
       "2    380840  \n",
       "3    652488  \n",
       "4     47243  "
      ]
     },
     "execution_count": 7,
     "metadata": {},
     "output_type": "execute_result"
    }
   ],
   "source": [
    "# 给区域重新编号\n",
    "print(\"reindex regionID...\")\n",
    "keys = []\n",
    "keys += set(tmp['gridID'])\n",
    "# keys = [i for n, i in enumerate(keys) if i not in keys[:n]]\n",
    "print(\"After loading the data files, region numbers: \", len(keys))\n",
    "values = [i for i in range(1, len(keys) + 1)]\n",
    "tmp_dict = dict(zip(keys, values))\n",
    "tmp['regionID'] = tmp.apply(lambda x: tmp_dict[x['gridID']], axis=1)\n",
    "print(tmp.shape)\n",
    "tmp.head(5)"
   ]
  },
  {
   "cell_type": "code",
   "execution_count": 8,
   "metadata": {},
   "outputs": [
    {
     "name": "stdout",
     "output_type": "stream",
     "text": [
      "generate raw_pos.csv...\n"
     ]
    },
    {
     "data": {
      "text/html": [
       "<div>\n",
       "<style scoped>\n",
       "    .dataframe tbody tr th:only-of-type {\n",
       "        vertical-align: middle;\n",
       "    }\n",
       "\n",
       "    .dataframe tbody tr th {\n",
       "        vertical-align: top;\n",
       "    }\n",
       "\n",
       "    .dataframe thead th {\n",
       "        text-align: right;\n",
       "    }\n",
       "</style>\n",
       "<table border=\"1\" class=\"dataframe\">\n",
       "  <thead>\n",
       "    <tr style=\"text-align: right;\">\n",
       "      <th></th>\n",
       "      <th>uid</th>\n",
       "      <th>date</th>\n",
       "      <th>timeNo</th>\n",
       "      <th>regionID</th>\n",
       "    </tr>\n",
       "  </thead>\n",
       "  <tbody>\n",
       "    <tr>\n",
       "      <th>0</th>\n",
       "      <td>0</td>\n",
       "      <td>2008-10-23</td>\n",
       "      <td>5</td>\n",
       "      <td>510639</td>\n",
       "    </tr>\n",
       "    <tr>\n",
       "      <th>1</th>\n",
       "      <td>0</td>\n",
       "      <td>2008-10-23</td>\n",
       "      <td>6</td>\n",
       "      <td>443230</td>\n",
       "    </tr>\n",
       "    <tr>\n",
       "      <th>2</th>\n",
       "      <td>0</td>\n",
       "      <td>2008-10-23</td>\n",
       "      <td>8</td>\n",
       "      <td>614392</td>\n",
       "    </tr>\n",
       "    <tr>\n",
       "      <th>3</th>\n",
       "      <td>0</td>\n",
       "      <td>2008-10-23</td>\n",
       "      <td>9</td>\n",
       "      <td>311767</td>\n",
       "    </tr>\n",
       "    <tr>\n",
       "      <th>4</th>\n",
       "      <td>0</td>\n",
       "      <td>2008-10-23</td>\n",
       "      <td>19</td>\n",
       "      <td>70221</td>\n",
       "    </tr>\n",
       "    <tr>\n",
       "      <th>...</th>\n",
       "      <td>...</td>\n",
       "      <td>...</td>\n",
       "      <td>...</td>\n",
       "      <td>...</td>\n",
       "    </tr>\n",
       "    <tr>\n",
       "      <th>82543</th>\n",
       "      <td>181</td>\n",
       "      <td>2008-02-17</td>\n",
       "      <td>8</td>\n",
       "      <td>660717</td>\n",
       "    </tr>\n",
       "    <tr>\n",
       "      <th>82544</th>\n",
       "      <td>181</td>\n",
       "      <td>2008-02-17</td>\n",
       "      <td>21</td>\n",
       "      <td>403447</td>\n",
       "    </tr>\n",
       "    <tr>\n",
       "      <th>82545</th>\n",
       "      <td>181</td>\n",
       "      <td>2008-03-14</td>\n",
       "      <td>5</td>\n",
       "      <td>408919</td>\n",
       "    </tr>\n",
       "    <tr>\n",
       "      <th>82546</th>\n",
       "      <td>181</td>\n",
       "      <td>2008-03-14</td>\n",
       "      <td>6</td>\n",
       "      <td>700147</td>\n",
       "    </tr>\n",
       "    <tr>\n",
       "      <th>82547</th>\n",
       "      <td>181</td>\n",
       "      <td>2008-03-14</td>\n",
       "      <td>7</td>\n",
       "      <td>691798</td>\n",
       "    </tr>\n",
       "  </tbody>\n",
       "</table>\n",
       "<p>82548 rows × 4 columns</p>\n",
       "</div>"
      ],
      "text/plain": [
       "       uid        date  timeNo  regionID\n",
       "0        0  2008-10-23       5    510639\n",
       "1        0  2008-10-23       6    443230\n",
       "2        0  2008-10-23       8    614392\n",
       "3        0  2008-10-23       9    311767\n",
       "4        0  2008-10-23      19     70221\n",
       "...    ...         ...     ...       ...\n",
       "82543  181  2008-02-17       8    660717\n",
       "82544  181  2008-02-17      21    403447\n",
       "82545  181  2008-03-14       5    408919\n",
       "82546  181  2008-03-14       6    700147\n",
       "82547  181  2008-03-14       7    691798\n",
       "\n",
       "[82548 rows x 4 columns]"
      ]
     },
     "execution_count": 8,
     "metadata": {},
     "output_type": "execute_result"
    }
   ],
   "source": [
    "# 转换成AttnMove的数据格式：{uid, date, trajectory}\n",
    "print(\"generate raw_pos.csv...\")\n",
    "tmp3 = tmp[['uid', 'date', 'regionID', 'timeNo']].copy(deep=True)\n",
    "\n",
    "# aggregate the regionID for every time intervel(30 mins)\n",
    "# tmp3 = tmp3.groupby(['uid', 'date', 'timeNo']).apply(lambda x: x[:])#.agg(lambda x: x.value_counts().index[0]).reset_index()\n",
    "tmp3 = tmp3.groupby(['uid', 'date', 'timeNo']).agg(lambda x: x.value_counts().index[0]).reset_index()\n",
    "tmp3.to_csv('./Results/tmp3.txt', sep='\\t', index=False)\n",
    "tmp3"
   ]
  },
  {
   "cell_type": "code",
   "execution_count": 9,
   "metadata": {},
   "outputs": [
    {
     "name": "stdout",
     "output_type": "stream",
     "text": [
      "[  0   1   2   3   4   5   6   7   8   9  10  11  12  13  14  15  16  17\n",
      "  18  19  20  21  22  23  24  25  26  27  28  29  30  31  32  33  34  35\n",
      "  36  37  38  39  40  41  42  43  44  45  46  47  48  49  50  51  52  53\n",
      "  54  55  56  57  58  59  60  61  62  63  64  65  66  67  68  69  70  71\n",
      "  72  73  74  75  76  77  78  79  80  81  82  83  84  85  86  87  88  89\n",
      "  90  91  92  93  94  95  96  97  98  99 100 101 102 103 104 105 106 107\n",
      " 108 109 110 111 112 113 114 115 116 117 118 119 120 121 122 123 124 125\n",
      " 126 127 128 129 130 131 132 133 134 135 136 137 138 139 140 141 142 143\n",
      " 144 145 146 147 148 149 150 151 152 153 154 155 156 157 158 159 160 161\n",
      " 162 163 164 165 166 167 168 169 170 171 172 173 174 175 176 177 178 179\n",
      " 180 181]\n",
      "['2008-10-23' '2008-10-24' '2008-10-26' ... '2008-03-23' '2008-03-25'\n",
      " '2008-02-06']\n"
     ]
    }
   ],
   "source": [
    "# 获得user_list和date_list\n",
    "tmp3 = pd.read_csv('Results/tmp3.txt', sep=\"\\t\").groupby(['uid', 'date']).apply(lambda x: x[:])\n",
    "user_list = tmp3['uid'].drop_duplicates().values\n",
    "date_list = tmp3['date'].drop_duplicates().values\n",
    "print(user_list)\n",
    "print(date_list)"
   ]
  },
  {
   "cell_type": "code",
   "execution_count": 10,
   "metadata": {},
   "outputs": [
    {
     "name": "stdout",
     "output_type": "stream",
     "text": [
      "(11142, 48)\n"
     ]
    }
   ],
   "source": [
    "# result_final是符合AttnMove数据格式的dataframe\n",
    "result_final = pd.DataFrame()\n",
    "no_use = 0\n",
    "for uid in user_list:\n",
    "    for date in date_list:\n",
    "        try:\n",
    "            tmp4 = pd.DataFrame(tmp3.loc[(uid, date), ['timeNo', 'regionID']].values.T)\n",
    "            tmp4 = tmp4.set_axis(tmp4.iloc[0], axis=1, inplace=False).drop(index=0)\n",
    "            tmp4.index = pd.MultiIndex.from_product([[uid], [date]])\n",
    "            result_final = result_final.append(tmp4)\n",
    "        except:\n",
    "            # print(\"No record for UID=%d, date=%s\" % (uid, date))\n",
    "            no_use = no_use + 1\n",
    "            continue\n",
    "\n",
    "# 没有出现的时段列也补上相应的列\n",
    "seq_len = 48\n",
    "column_names = result_final.columns\n",
    "for index in range(0,seq_len):\n",
    "    if index not in column_names:\n",
    "        result_final.insert(index, index, None)\n",
    "\n",
    "result_final = result_final.fillna('*')  \n",
    "\n",
    "print(result_final.shape)"
   ]
  },
  {
   "cell_type": "code",
   "execution_count": 11,
   "metadata": {},
   "outputs": [],
   "source": [
    "# 运行一次太慢了，因此跑完之后存下来方便之后直接用\n",
    "result_final.to_csv(output_path + '/raw_pos.csv', index=True, header=True)\n",
    "df_tmp = pd.read_csv(output_path + '/raw_pos.csv', index_col=0)\n",
    "df_tmp.to_csv(output_path + '/raw_pos.txt', sep='\\t', index=True, header=True)\n"
   ]
  }
 ],
 "metadata": {
  "kernelspec": {
   "display_name": "Python 3.6.13 ('AttnMove')",
   "language": "python",
   "name": "python3"
  },
  "language_info": {
   "codemirror_mode": {
    "name": "ipython",
    "version": 3
   },
   "file_extension": ".py",
   "mimetype": "text/x-python",
   "name": "python",
   "nbconvert_exporter": "python",
   "pygments_lexer": "ipython3",
   "version": "3.6.13"
  },
  "orig_nbformat": 4,
  "vscode": {
   "interpreter": {
    "hash": "e2df17bf388c13c46faedee01ce940fe024e6ed539f00edac5b19515bb5331c9"
   }
  }
 },
 "nbformat": 4,
 "nbformat_minor": 2
}
