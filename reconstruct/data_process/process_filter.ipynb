{
 "cells": [
  {
   "cell_type": "code",
   "execution_count": 1,
   "metadata": {},
   "outputs": [],
   "source": [
    "import pandas as pd\n",
    "from datetime import datetime\n",
    "import os\n",
    "import argparse"
   ]
  },
  {
   "cell_type": "code",
   "execution_count": 2,
   "metadata": {},
   "outputs": [
    {
     "data": {
      "text/plain": [
       "(11142, 50)"
      ]
     },
     "execution_count": 2,
     "metadata": {},
     "output_type": "execute_result"
    }
   ],
   "source": [
    "# 读取raw_data\n",
    "output_path = './Results/size%d' % (1)\n",
    "if not os.path.exists(output_path):\n",
    "    # 目录不存在，进行创建操作\n",
    "    os.makedirs(output_path)\n",
    "\n",
    "startTime = datetime.now()\n",
    "traj_undropped = pd.read_csv(output_path + '/raw_pos.txt',sep=\"\\t\")\n",
    "# 删除日期未知的轨迹\n",
    "traj_undropped.drop(traj_undropped[traj_undropped['Unnamed: 0'] == '*'].index, inplace=True)\n",
    "traj_undropped.shape"
   ]
  },
  {
   "cell_type": "code",
   "execution_count": 3,
   "metadata": {},
   "outputs": [
    {
     "name": "stdout",
     "output_type": "stream",
     "text": [
      "(9252, 50)\n"
     ]
    }
   ],
   "source": [
    "# 删除采样点少于12个的轨迹\n",
    "columns = traj_undropped.columns\n",
    "traj_dropped = pd.DataFrame(columns=columns)\n",
    "for i in range(len(traj_undropped)):\n",
    "    if '*' in traj_undropped.iloc[i].value_counts():\n",
    "        count = traj_undropped.iloc[i].value_counts()['*']\n",
    "    else:\n",
    "        count = 0\n",
    "    if count >= 36:\n",
    "        traj_dropped = traj_dropped.append(traj_undropped.iloc[i])\n",
    "\n",
    "# traj_undropped.index = list(traj_undropped.iloc[:,0])\n",
    "print(traj_dropped.shape)\n"
   ]
  },
  {
   "cell_type": "code",
   "execution_count": 4,
   "metadata": {},
   "outputs": [
    {
     "name": "stdout",
     "output_type": "stream",
     "text": [
      "(9144, 50)\n"
     ]
    }
   ],
   "source": [
    "# 删除轨迹少于5条的用户\n",
    "traj_drop_uid = pd.DataFrame(columns=columns)\n",
    "# 每个用户的天数\n",
    "traj_dropped.index = list(traj_dropped.iloc[:,0])\n",
    "date_counts = traj_dropped.index.value_counts()\n",
    "\n",
    "for uid in date_counts.index:\n",
    "    if date_counts[uid] > 5:\n",
    "        traj_drop_uid = traj_drop_uid.append(traj_dropped.loc[uid])\n",
    "print(traj_drop_uid.shape)"
   ]
  },
  {
   "cell_type": "code",
   "execution_count": 5,
   "metadata": {},
   "outputs": [
    {
     "name": "stdout",
     "output_type": "stream",
     "text": [
      "Dropping time: 0:02:34\n"
     ]
    }
   ],
   "source": [
    "endTime = datetime.now()\n",
    "print(\"Dropping time:\",str(endTime-startTime)[0:7])"
   ]
  },
  {
   "cell_type": "code",
   "execution_count": 6,
   "metadata": {},
   "outputs": [
    {
     "name": "stdout",
     "output_type": "stream",
     "text": [
      "{0, 1, 2, 3, 4, 5, 6, 7, 8, 9, 10, 11, 12, 13, 14, 15, 16, 17, 18, 19, 20, 22, 23, 24, 25, 26, 28, 29, 30, 32, 33, 34, 35, 36, 37, 38, 39, 40, 41, 42, 43, 44, 45, 46, 47, 50, 51, 52, 53, 55, 56, 57, 58, 61, 62, 63, 64, 65, 66, 67, 68, 69, 70, 71, 73, 74, 75, 76, 78, 79, 81, 82, 83, 84, 85, 86, 87, 88, 89, 90, 91, 92, 93, 94, 95, 96, 97, 98, 99, 100, 101, 102, 103, 104, 105, 108, 110, 111, 112, 113, 114, 115, 117, 119, 122, 125, 126, 128, 129, 130, 131, 134, 135, 136, 138, 139, 140, 141, 142, 144, 146, 147, 150, 153, 154, 155, 157, 158, 159, 161, 162, 163, 164, 165, 167, 168, 169, 172, 173, 174, 176, 179, 181}\n",
      "143\n"
     ]
    }
   ],
   "source": [
    "# 删除小数点\n",
    "traj_drop_uid.replace('*', -1, inplace=True)\n",
    "traj_drop_uid.iloc[:, 2:] = traj_drop_uid.iloc[:, 2:].astype(float)\n",
    "traj_drop_uid.iloc[:, 2:] = traj_drop_uid.iloc[:, 2:].astype(int)\n",
    "traj_drop_uid.replace(-1, '*', inplace=True)\n",
    "print(set(traj_drop_uid['Unnamed: 0']))\n",
    "print(len(set(traj_drop_uid['Unnamed: 0'])))"
   ]
  },
  {
   "cell_type": "code",
   "execution_count": 7,
   "metadata": {},
   "outputs": [
    {
     "name": "stdout",
     "output_type": "stream",
     "text": [
      "(9144, 50)\n",
      "{1, 2, 3, 4, 5, 6, 7, 8, 9, 10, 11, 12, 13, 14, 15, 16, 17, 18, 19, 20, 21, 22, 23, 24, 25, 26, 27, 28, 29, 30, 31, 32, 33, 34, 35, 36, 37, 38, 39, 40, 41, 42, 43, 44, 45, 46, 47, 48, 49, 50, 51, 52, 53, 54, 55, 56, 57, 58, 59, 60, 61, 62, 63, 64, 65, 66, 67, 68, 69, 70, 71, 72, 73, 74, 75, 76, 77, 78, 79, 80, 81, 82, 83, 84, 85, 86, 87, 88, 89, 90, 91, 92, 93, 94, 95, 96, 97, 98, 99, 100, 101, 102, 103, 104, 105, 106, 107, 108, 109, 110, 111, 112, 113, 114, 115, 116, 117, 118, 119, 120, 121, 122, 123, 124, 125, 126, 127, 128, 129, 130, 131, 132, 133, 134, 135, 136, 137, 138, 139, 140, 141, 142, 143}\n",
      "143\n"
     ]
    }
   ],
   "source": [
    "#给用户重新编号\n",
    "keys = set(traj_drop_uid.index)\n",
    "values = [i for i in range(1, len(keys) + 1)]\n",
    "tmp_dict = dict(zip(keys, values))\n",
    "\n",
    "traj_drop_uid['Unnamed: 0'] = traj_drop_uid['Unnamed: 0'].replace(tmp_dict)\n",
    "traj_drop_uid.sort_values(by=\"Unnamed: 0\" , inplace=True, ascending=True)\n",
    "print(traj_drop_uid.shape)\n",
    "print(set(traj_drop_uid['Unnamed: 0']))\n",
    "print(len(set(traj_drop_uid['Unnamed: 0'])))\n"
   ]
  },
  {
   "cell_type": "code",
   "execution_count": 8,
   "metadata": {},
   "outputs": [
    {
     "name": "stdout",
     "output_type": "stream",
     "text": [
      "generate dropped_pos.txt...\n",
      "generatation completed.\n"
     ]
    }
   ],
   "source": [
    "print(\"generate dropped_pos.txt...\")\n",
    "traj_drop_uid.to_csv(output_path + '/dropped_pos.txt',sep='\\t',index=False,header=1)\n",
    "print(\"generatation completed.\")"
   ]
  }
 ],
 "metadata": {
  "kernelspec": {
   "display_name": "Python 3.6.13 ('AttnMove')",
   "language": "python",
   "name": "python3"
  },
  "language_info": {
   "codemirror_mode": {
    "name": "ipython",
    "version": 3
   },
   "file_extension": ".py",
   "mimetype": "text/x-python",
   "name": "python",
   "nbconvert_exporter": "python",
   "pygments_lexer": "ipython3",
   "version": "3.6.13"
  },
  "orig_nbformat": 4,
  "vscode": {
   "interpreter": {
    "hash": "e2df17bf388c13c46faedee01ce940fe024e6ed539f00edac5b19515bb5331c9"
   }
  }
 },
 "nbformat": 4,
 "nbformat_minor": 2
}
